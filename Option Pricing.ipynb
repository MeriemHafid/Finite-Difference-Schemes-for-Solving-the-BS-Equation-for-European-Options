{
 "cells": [
  {
   "attachments": {},
   "cell_type": "markdown",
   "metadata": {},
   "source": [
    "##### Date : 10/31/2022\n",
    "##### Author : Meriem HAFID"
   ]
  },
  {
   "cell_type": "code",
   "execution_count": 33,
   "metadata": {},
   "outputs": [],
   "source": [
    "import numpy as np\n",
    "import matplotlib.pyplot as plt\n",
    "from scipy.stats import norm\n",
    "import scipy.linalg as linalg\n",
    "plt.rcParams[\"figure.figsize\"] = (16,9)"
   ]
  },
  {
   "cell_type": "markdown",
   "metadata": {},
   "source": [
    "#### The boundary  condition for a Call spread : \n",
    "First For a Call option, if the asset is worthless there’s no point on buying it and therefore on exercising the option, so the option itself is worthless. On the other hand, if the value of the asset is very high, we will exercise it very surely in the expiry day, since we know that we will pay K for it in the future, the payment on present money may be estimated as $Ke^{−r(T −t)}$ and the final profit, and therefore the value of the option would be $S_{max} − Ke^{−r(T −t)}$, we can conclude on spread call for a combination of a short leg - call and long leg - call its value would be $(S_{max} − K_{long}e^{−r(T −t)}) - (S_{max} − K_{short}e^{−r(T −t)})$\n",
    "\n",
    "Boundary conditions :\n",
    "\n",
    "$S→0$ is known and is equal to 0.\n",
    "\n",
    "$S→∞$ $f(t,S)=(K_{short}−K_{long})e^{−r(T−t)}$\n",
    "\n",
    "#### The boundary  condition for a put : \n",
    "For a Put option, if the asset is worthless, it’s very surely that we will decide to exercise the option, getting a future profit of K, so the estimation of the present value can be said to be $f(0, t)$, on the other hand, if the asset is very expensive, probably we won’t exercise it, because it’s more profitable to sell directly in the market, so the option is worthless, thus $f(S_{max}, 0) = 0$\n",
    "\n",
    "$f(S, T) = (K − S)^{+} = max(K − S, 0)$ (Terminal condition)\n",
    "\n",
    "$f(0, t) = Ke^{−r(T −t)}, f(S_{max}, t) = 0$ (Boundary conditions)"
   ]
  },
  {
   "cell_type": "markdown",
   "metadata": {},
   "source": [
    "## Implicit scheme : "
   ]
  },
  {
   "cell_type": "code",
   "execution_count": 307,
   "metadata": {},
   "outputs": [],
   "source": [
    "def pde_scheme_implicit(S_0, r, sigma, T, K_long, K_short, H, nb_x_side, nb_t,is_call_spread):\n",
    "    nb_x = 2 * nb_x_side + 1\n",
    "    xs = np.linspace(np.log(S_0)-H, np.log(S_0)+H, nb_x)\n",
    "    dx = 2. * H / (nb_x - 1.) \n",
    "    dt = T / (nb_t - 1.)\n",
    "    ts = np.linspace(0, T, nb_t)\n",
    "    p = np.empty([nb_x, nb_t])\n",
    "    \n",
    "    #Boundary condition on the call spread\n",
    "    if is_call_spread==True:\n",
    "        g = lambda S : np.maximum(S-K_long,0.) - np.maximum(S-K_short,0.)\n",
    "        p[:,0] = g(np.exp(xs))\n",
    "        p[0,:] = 0.\n",
    "        p[-1,:] = (K_short - K_long) * np.exp(-r*ts)\n",
    "    \n",
    "    #Boundary condition on the put\n",
    "    else:\n",
    "        g = lambda S : np.maximum(K_long-S,0.)\n",
    "        p[:,0] = g(np.exp(xs))\n",
    "        p[0,:] = K_long* np.exp(-r*ts) \n",
    "        p[-1,:] = 0.\n",
    "        \n",
    "    d = 1.+dt*(r + (r-0.5*sigma**2)/dx + sigma**2 / dx**2)\n",
    "    sup_d = -dt*((r-0.5*sigma**2)/dx + 0.5 * sigma**2 / dx**2)\n",
    "    inf_d = -dt*(0.5 * sigma**2 / dx**2)\n",
    "    A = np.diag(d * np.ones(nb_x-2)) + np.diag(sup_d * np.ones(nb_x-3), 1) + np.diag(inf_d * np.ones(nb_x-3), -1)\n",
    "    v = np.zeros_like(p[1:-1,0])\n",
    "    v[-1] = 1.\n",
    "    invA = np.linalg.inv(A)\n",
    "    for t in range(1,nb_t):\n",
    "        p[1:-1,t] = invA @ (p[1:-1,t-1] - sup_d * p[-1,t] * v)   \n",
    "    return p, p[nb_x_side,-1]"
   ]
  },
  {
   "cell_type": "code",
   "execution_count": 286,
   "metadata": {},
   "outputs": [],
   "source": [
    "def pde_scheme_implicit_neumann(S_0, r, sigma, T, g, H, nb_x_side, nb_t):\n",
    "    nb_x = 2 * nb_x_side + 1\n",
    "    xs = np.linspace(np.log(S_0)-H, np.log(S_0)+H, nb_x)\n",
    "    dx = 2. * H / (nb_x - 1.) \n",
    "    dt = T / (nb_t - 1.)\n",
    "    ts = np.linspace(0, T, nb_t)\n",
    "    p = np.empty([nb_x, nb_t])\n",
    "    p[:,0] = g(np.exp(xs))\n",
    "    d = 1.+dt*(r + (r-0.5*sigma**2)/dx + sigma**2 / dx**2)\n",
    "    sup_d = -dt*((r-0.5*sigma**2)/dx + 0.5 * sigma**2 / dx**2)\n",
    "    inf_d = -dt*(0.5 * sigma**2 / dx**2)\n",
    "    A = np.diag(d * np.ones(nb_x)) + np.diag(sup_d * np.ones(nb_x-1), 1) + np.diag(inf_d * np.ones(nb_x-1), -1)\n",
    "    A[0,0] = 1.+dt*(r + (r-0.5*sigma**2)/dx + sigma**2 / dx**2 / 2.)\n",
    "    A[-1,-1] = 1.+dt*(r + sigma**2 / dx**2 / 2.)\n",
    "    invA = np.linalg.inv(A)\n",
    "    for t in range(1,nb_t):\n",
    "        p[:,t] = invA @ p[:,t-1]  \n",
    "    return p, p[nb_x_side,-1]"
   ]
  },
  {
   "cell_type": "markdown",
   "metadata": {},
   "source": [
    "## Crank-Nicolson Scheme : \n",
    "We first set the initial condition and boundary condition, and calculate the $\\alpha$, $\\beta$, $\\gamma$ coefficient. "
   ]
  },
  {
   "cell_type": "code",
   "execution_count": 273,
   "metadata": {},
   "outputs": [],
   "source": [
    "class FD_Crank_Nicolson(object):\n",
    "    \n",
    "    def __init__(self, S_0, K_long, K_short, r, T, sigma, S_max, nb_x_side, nb_t, is_put):\n",
    "        self.S_0 = S_0\n",
    "        self.K_long = K_long\n",
    "        self.K_short = K_short\n",
    "        self.r = r\n",
    "        self.T = T\n",
    "        self.sigma = sigma\n",
    "        self.S_max = S_max\n",
    "        self.nb_x_side, self.nb_t = nb_x_side, nb_t\n",
    "        self.is_call_spread = not is_put\n",
    "        self.i_values = np.arange(self.nb_x_side)\n",
    "        self.j_values = np.arange(self.nb_t)\n",
    "        self.p = np.zeros(shape=(self.nb_x_side+1, self.nb_t+1))\n",
    "        self.boundary_conds = np.linspace(0, S_max, self.nb_x_side+1)\n",
    "        self.dS = self.S_max/float(self.nb_x_side)\n",
    "        self.dt = self.T/float(self.nb_t)\n",
    "    \n",
    "    def setup_boundary_conditions(self):\n",
    "        if self.is_call_spread:\n",
    "            self.p[:,-1] = np.maximum(self.boundary_conds - self.K_long,0) - np.maximum(self.boundary_conds - self.K_short,0)\n",
    "            self.p[-1,:-1] = (self.K_short - self.K_long) * np.exp(-self.r*self.dt*(self.nb_t-self.j_values))\n",
    "        else:\n",
    "            self.p[:,-1] = np.maximum(0, self.K_long-self.boundary_conds)\n",
    "            self.p[0,:-1] = (self.K_long-self.S_max) * np.exp(-self.r*self.dt*(self.nb_t-self.j_values))\n",
    "\n",
    "    def setup_coefficients(self):\n",
    "        self.alpha = 0.25*self.dt*((self.sigma**2)*(self.i_values**2) - self.r*self.i_values)\n",
    "        self.beta = -self.dt*0.5*((self.sigma**2)*(self.i_values**2) + self.r)\n",
    "        self.gamma = 0.25*self.dt*((self.sigma**2)*(self.i_values**2) + self.r*self.i_values)\n",
    "        self.nb_x1 = -np.diag(self.alpha[2:self.nb_x_side], -1) + np.diag(1-self.beta[1:self.nb_x_side]) - np.diag(self.gamma[1:self.nb_x_side-1], 1)\n",
    "        self.nb_x2 = np.diag(self.alpha[2:self.nb_x_side], -1) + np.diag(1+self.beta[1:self.nb_x_side]) + np.diag(self.gamma[1:self.nb_x_side-1], 1)\n",
    "\n",
    "    def traverse_grid(self):\n",
    "        \"\"\" Solve using linear systems of equations \"\"\"\n",
    "        P, L, U = linalg.lu(self.nb_x1)\n",
    "\n",
    "        for j in reversed(range(self.nb_t)):\n",
    "            x1 = linalg.solve(L, np.dot(self.nb_x2, self.p[1:self.nb_x_side, j+1]))\n",
    "            x2 = linalg.solve(U, x1)\n",
    "            self.p[1:self.nb_x_side, j] = x2\n",
    "            \n",
    "    def price(self):\n",
    "        self.setup_boundary_conditions()\n",
    "        self.setup_coefficients()\n",
    "        self.traverse_grid()\n",
    "        \n",
    "        \"\"\"Use piecewise linear interpolation on the initial p column to get the closest price at S0.\"\"\"\n",
    "        return np.interp(self.S_0, self.boundary_conds, self.p[:,0])"
   ]
  },
  {
   "cell_type": "markdown",
   "metadata": {},
   "source": [
    "## A Call-Spread : \n",
    "\n",
    "We assume $S_{0} = 10$, $r = 2%$ and $σ = 25%$\n",
    "\n",
    "• Long leg: at-the-money call with 3-year maturity \n",
    "\n",
    "• Short leg: call of maturity equal to 3 years with moneyness 150%."
   ]
  },
  {
   "cell_type": "code",
   "execution_count": 192,
   "metadata": {},
   "outputs": [],
   "source": [
    "S0 = 10.\n",
    "H = np.log(3*S0) - np.log(S0)\n",
    "nb_x_side = 500\n",
    "nb_t = 1000\n",
    "S_min = S0 * np.exp(-H)\n",
    "S_max = S0 * np.exp(H)\n",
    "K_long = 10. #The stike price = the underlaying price cause we are ATM \n",
    "K_short = 15. #Moneyess de 150% m = K/S K = 1.5*10 = 15\n",
    "r = 0.02\n",
    "sigma = 0.25\n",
    "T = 3."
   ]
  },
  {
   "cell_type": "code",
   "execution_count": 262,
   "metadata": {
    "scrolled": true
   },
   "outputs": [
    {
     "name": "stdout",
     "output_type": "stream",
     "text": [
      "Using the implicit scheme: the price of the call-spread is around 1.3581.\n"
     ]
    }
   ],
   "source": [
    "table_CallSpread, price_CallSpread = pde_scheme_implicit(S0, r, sigma, T, K_long, K_short, H, nb_x_side, nb_t, True)\n",
    "print('Using the implicit scheme: the price of the call-spread is around {}.'.format(round(price_CallSpread,4)))"
   ]
  },
  {
   "cell_type": "code",
   "execution_count": 234,
   "metadata": {},
   "outputs": [
    {
     "name": "stdout",
     "output_type": "stream",
     "text": [
      "Using Crank Nicolson scheme: the price of the call-spread is around 1.3155.\n"
     ]
    }
   ],
   "source": [
    "CallSpread = FD_Crank_Nicolson(S0, K_long, K_short, r, T, sigma, S_max, nb_x_side, nb_t, is_put=False)\n",
    "print('Using Crank Nicolson scheme: the price of the call-spread is around {}.'.format(round(CallSpread.price(),4)))"
   ]
  },
  {
   "cell_type": "markdown",
   "metadata": {},
   "source": [
    "## Put option: \n",
    "\n",
    "• a 10-year maturity put option with moneyness 80%."
   ]
  },
  {
   "cell_type": "code",
   "execution_count": 313,
   "metadata": {},
   "outputs": [],
   "source": [
    "S0 = 10.\n",
    "H = np.log(20*S0) - np.log(S0)\n",
    "nb_x_side = 500\n",
    "nb_t = 1000\n",
    "S_min = S0 * np.exp(-H)\n",
    "S_max = S0 * np.exp(H)\n",
    "K_put = 8. #Moneyess de 80% m = K/S K = 0.8*10 = 8\n",
    "k = 0\n",
    "r = 0.02\n",
    "sigma = 0.25\n",
    "T_put = 10."
   ]
  },
  {
   "cell_type": "code",
   "execution_count": 312,
   "metadata": {},
   "outputs": [
    {
     "name": "stdout",
     "output_type": "stream",
     "text": [
      "Using the implicit scheme: the price of the put is around 1.1431.\n"
     ]
    }
   ],
   "source": [
    "table_put, price_put = pde_scheme_implicit(S0, r, sigma, T_put, K_put, k, H, nb_x_side, nb_t, False)\n",
    "print('Using the implicit scheme: the price of the put is around {}.'.format(round(price_put,4))) "
   ]
  },
  {
   "cell_type": "code",
   "execution_count": 261,
   "metadata": {},
   "outputs": [
    {
     "name": "stdout",
     "output_type": "stream",
     "text": [
      "Using Crank Nicolson scheme: the price of the put is around 1.1485.\n"
     ]
    }
   ],
   "source": [
    "Put = FD_Crank_Nicolson(S0, K_put, k, r, T_put, sigma, S_max, nb_x_side, nb_t, is_put=True)\n",
    "print('Using Crank Nicolson scheme: the price of the put is around {}.'.format(round(Put.price(),4))) "
   ]
  }
 ],
 "metadata": {
  "kernelspec": {
   "display_name": "Python 3",
   "language": "python",
   "name": "python3"
  },
  "language_info": {
   "codemirror_mode": {
    "name": "ipython",
    "version": 3
   },
   "file_extension": ".py",
   "mimetype": "text/x-python",
   "name": "python",
   "nbconvert_exporter": "python",
   "pygments_lexer": "ipython3",
   "version": "3.8.3"
  }
 },
 "nbformat": 4,
 "nbformat_minor": 4
}
